{
 "cells": [
  {
   "cell_type": "markdown",
   "metadata": {},
   "source": [
    "# Getting Financial Data - Pandas Datareader"
   ]
  },
  {
   "cell_type": "markdown",
   "metadata": {},
   "source": [
    "### Introduction:\n",
    "\n",
    "This time you will get data from a website.\n",
    "\n",
    "\n",
    "### Step 1. Import the necessary libraries"
   ]
  },
  {
   "cell_type": "code",
   "execution_count": 1,
   "metadata": {},
   "outputs": [],
   "source": [
    "import pandas as pd"
   ]
  },
  {
   "cell_type": "code",
   "execution_count": 4,
   "metadata": {},
   "outputs": [],
   "source": [
    "from datetime import date"
   ]
  },
  {
   "cell_type": "code",
   "execution_count": 13,
   "metadata": {},
   "outputs": [],
   "source": [
    "import requests"
   ]
  },
  {
   "cell_type": "code",
   "execution_count": 31,
   "metadata": {},
   "outputs": [],
   "source": [
    "import csv"
   ]
  },
  {
   "cell_type": "markdown",
   "metadata": {},
   "source": [
    "### Step 2. Create your time range (start and end variables). The start date should be 01/01/2015 and the end should today (whatever your today is)."
   ]
  },
  {
   "cell_type": "code",
   "execution_count": 6,
   "metadata": {},
   "outputs": [],
   "source": [
    "timeRange = pd.date_range(start='2015-01-01', end=date.today(), freq='D')"
   ]
  },
  {
   "cell_type": "code",
   "execution_count": 8,
   "metadata": {},
   "outputs": [
    {
     "data": {
      "text/plain": [
       "DatetimeIndex(['2015-01-01', '2015-01-02', '2015-01-03', '2015-01-04',\n",
       "               '2015-01-05', '2015-01-06', '2015-01-07', '2015-01-08',\n",
       "               '2015-01-09', '2015-01-10',\n",
       "               ...\n",
       "               '2022-05-02', '2022-05-03', '2022-05-04', '2022-05-05',\n",
       "               '2022-05-06', '2022-05-07', '2022-05-08', '2022-05-09',\n",
       "               '2022-05-10', '2022-05-11'],\n",
       "              dtype='datetime64[ns]', length=2688, freq='D')"
      ]
     },
     "execution_count": 8,
     "metadata": {},
     "output_type": "execute_result"
    }
   ],
   "source": [
    "timeRange"
   ]
  },
  {
   "cell_type": "markdown",
   "metadata": {},
   "source": [
    "### Step 3. Get an API key for one of the APIs that are supported by Pandas Datareader, preferably for AlphaVantage.\n",
    "\n",
    "If you do not have an API key for any of the supported APIs, it is easiest to get one for [AlphaVantage](https://www.alphavantage.co/support/#api-key). (Note that the API key is shown directly after the signup. You do *not* receive it via e-mail.)\n",
    "\n",
    "(For a full list of the APIs that are supported by Pandas Datareader, [see here](https://pydata.github.io/pandas-datareader/readers/index.html). As the APIs are provided by third parties, this list may change.)"
   ]
  },
  {
   "cell_type": "markdown",
   "metadata": {},
   "source": [
    "### Step 4. Use Pandas Datarader to read the daily time series for the Apple stock (ticker symbol AAPL) between 01/01/2015 and today, assign it to df_apple and print it."
   ]
  },
  {
   "cell_type": "code",
   "execution_count": 10,
   "metadata": {},
   "outputs": [],
   "source": [
    "key = 'IDU1MTXIREUYO8OO'"
   ]
  },
  {
   "cell_type": "code",
   "execution_count": 38,
   "metadata": {},
   "outputs": [],
   "source": [
    "url = 'https://www.alphavantage.co/query?function=TIME_SERIES_DAILY&symbol=AAPL&outputsize=full&apikey='+key"
   ]
  },
  {
   "cell_type": "code",
   "execution_count": 39,
   "metadata": {},
   "outputs": [
    {
     "data": {
      "text/plain": [
       "'https://www.alphavantage.co/query?function=TIME_SERIES_DAILY&symbol=AAPL&outputsize=full&apikey=IDU1MTXIREUYO8OO'"
      ]
     },
     "execution_count": 39,
     "metadata": {},
     "output_type": "execute_result"
    }
   ],
   "source": [
    "url"
   ]
  },
  {
   "cell_type": "code",
   "execution_count": 40,
   "metadata": {},
   "outputs": [],
   "source": [
    "r = requests.get(url)\n",
    "data = r.json()"
   ]
  },
  {
   "cell_type": "code",
   "execution_count": 46,
   "metadata": {},
   "outputs": [],
   "source": [
    "df_data = pd.DataFrame(data.get('Time Series (Daily)')).T"
   ]
  },
  {
   "cell_type": "code",
   "execution_count": 50,
   "metadata": {},
   "outputs": [],
   "source": [
    "df_data = df_data[df_data.index>='2015-01-01']"
   ]
  },
  {
   "cell_type": "code",
   "execution_count": 51,
   "metadata": {},
   "outputs": [
    {
     "data": {
      "text/html": [
       "<div>\n",
       "<style scoped>\n",
       "    .dataframe tbody tr th:only-of-type {\n",
       "        vertical-align: middle;\n",
       "    }\n",
       "\n",
       "    .dataframe tbody tr th {\n",
       "        vertical-align: top;\n",
       "    }\n",
       "\n",
       "    .dataframe thead th {\n",
       "        text-align: right;\n",
       "    }\n",
       "</style>\n",
       "<table border=\"1\" class=\"dataframe\">\n",
       "  <thead>\n",
       "    <tr style=\"text-align: right;\">\n",
       "      <th></th>\n",
       "      <th>1. open</th>\n",
       "      <th>2. high</th>\n",
       "      <th>3. low</th>\n",
       "      <th>4. close</th>\n",
       "      <th>5. volume</th>\n",
       "    </tr>\n",
       "  </thead>\n",
       "  <tbody>\n",
       "    <tr>\n",
       "      <th>2022-05-10</th>\n",
       "      <td>155.5200</td>\n",
       "      <td>156.7400</td>\n",
       "      <td>152.9300</td>\n",
       "      <td>154.5100</td>\n",
       "      <td>115366736</td>\n",
       "    </tr>\n",
       "    <tr>\n",
       "      <th>2022-05-09</th>\n",
       "      <td>154.9250</td>\n",
       "      <td>155.8300</td>\n",
       "      <td>151.4900</td>\n",
       "      <td>152.0600</td>\n",
       "      <td>131577921</td>\n",
       "    </tr>\n",
       "    <tr>\n",
       "      <th>2022-05-06</th>\n",
       "      <td>156.0100</td>\n",
       "      <td>159.4400</td>\n",
       "      <td>154.1800</td>\n",
       "      <td>157.2800</td>\n",
       "      <td>116124647</td>\n",
       "    </tr>\n",
       "    <tr>\n",
       "      <th>2022-05-05</th>\n",
       "      <td>163.8500</td>\n",
       "      <td>164.0800</td>\n",
       "      <td>154.9500</td>\n",
       "      <td>156.7700</td>\n",
       "      <td>130525275</td>\n",
       "    </tr>\n",
       "    <tr>\n",
       "      <th>2022-05-04</th>\n",
       "      <td>159.6700</td>\n",
       "      <td>166.4800</td>\n",
       "      <td>159.2600</td>\n",
       "      <td>166.0200</td>\n",
       "      <td>107521649</td>\n",
       "    </tr>\n",
       "    <tr>\n",
       "      <th>...</th>\n",
       "      <td>...</td>\n",
       "      <td>...</td>\n",
       "      <td>...</td>\n",
       "      <td>...</td>\n",
       "      <td>...</td>\n",
       "    </tr>\n",
       "    <tr>\n",
       "      <th>2015-01-08</th>\n",
       "      <td>109.2300</td>\n",
       "      <td>112.1500</td>\n",
       "      <td>108.7000</td>\n",
       "      <td>111.8900</td>\n",
       "      <td>59364547</td>\n",
       "    </tr>\n",
       "    <tr>\n",
       "      <th>2015-01-07</th>\n",
       "      <td>107.2000</td>\n",
       "      <td>108.2000</td>\n",
       "      <td>106.6950</td>\n",
       "      <td>107.7500</td>\n",
       "      <td>40105934</td>\n",
       "    </tr>\n",
       "    <tr>\n",
       "      <th>2015-01-06</th>\n",
       "      <td>106.5400</td>\n",
       "      <td>107.4300</td>\n",
       "      <td>104.6300</td>\n",
       "      <td>106.2600</td>\n",
       "      <td>65797116</td>\n",
       "    </tr>\n",
       "    <tr>\n",
       "      <th>2015-01-05</th>\n",
       "      <td>108.2900</td>\n",
       "      <td>108.6500</td>\n",
       "      <td>105.4100</td>\n",
       "      <td>106.2500</td>\n",
       "      <td>64285491</td>\n",
       "    </tr>\n",
       "    <tr>\n",
       "      <th>2015-01-02</th>\n",
       "      <td>111.3900</td>\n",
       "      <td>111.4400</td>\n",
       "      <td>107.3500</td>\n",
       "      <td>109.3300</td>\n",
       "      <td>53204626</td>\n",
       "    </tr>\n",
       "  </tbody>\n",
       "</table>\n",
       "<p>1852 rows × 5 columns</p>\n",
       "</div>"
      ],
      "text/plain": [
       "             1. open   2. high    3. low  4. close  5. volume\n",
       "2022-05-10  155.5200  156.7400  152.9300  154.5100  115366736\n",
       "2022-05-09  154.9250  155.8300  151.4900  152.0600  131577921\n",
       "2022-05-06  156.0100  159.4400  154.1800  157.2800  116124647\n",
       "2022-05-05  163.8500  164.0800  154.9500  156.7700  130525275\n",
       "2022-05-04  159.6700  166.4800  159.2600  166.0200  107521649\n",
       "...              ...       ...       ...       ...        ...\n",
       "2015-01-08  109.2300  112.1500  108.7000  111.8900   59364547\n",
       "2015-01-07  107.2000  108.2000  106.6950  107.7500   40105934\n",
       "2015-01-06  106.5400  107.4300  104.6300  106.2600   65797116\n",
       "2015-01-05  108.2900  108.6500  105.4100  106.2500   64285491\n",
       "2015-01-02  111.3900  111.4400  107.3500  109.3300   53204626\n",
       "\n",
       "[1852 rows x 5 columns]"
      ]
     },
     "execution_count": 51,
     "metadata": {},
     "output_type": "execute_result"
    }
   ],
   "source": [
    "df_data"
   ]
  },
  {
   "cell_type": "markdown",
   "metadata": {},
   "source": [
    "### Step 5. Add a new column \"stock\" to the dataframe and add the ticker symbol"
   ]
  },
  {
   "cell_type": "code",
   "execution_count": 52,
   "metadata": {},
   "outputs": [
    {
     "name": "stderr",
     "output_type": "stream",
     "text": [
      "C:\\Users\\holacons\\AppData\\Local\\Temp\\ipykernel_2136\\1115273902.py:1: SettingWithCopyWarning: \n",
      "A value is trying to be set on a copy of a slice from a DataFrame.\n",
      "Try using .loc[row_indexer,col_indexer] = value instead\n",
      "\n",
      "See the caveats in the documentation: https://pandas.pydata.org/pandas-docs/stable/user_guide/indexing.html#returning-a-view-versus-a-copy\n",
      "  df_data['stock']='AAPL'\n"
     ]
    }
   ],
   "source": [
    "df_data['stock']='AAPL'"
   ]
  },
  {
   "cell_type": "code",
   "execution_count": 53,
   "metadata": {},
   "outputs": [
    {
     "data": {
      "text/html": [
       "<div>\n",
       "<style scoped>\n",
       "    .dataframe tbody tr th:only-of-type {\n",
       "        vertical-align: middle;\n",
       "    }\n",
       "\n",
       "    .dataframe tbody tr th {\n",
       "        vertical-align: top;\n",
       "    }\n",
       "\n",
       "    .dataframe thead th {\n",
       "        text-align: right;\n",
       "    }\n",
       "</style>\n",
       "<table border=\"1\" class=\"dataframe\">\n",
       "  <thead>\n",
       "    <tr style=\"text-align: right;\">\n",
       "      <th></th>\n",
       "      <th>1. open</th>\n",
       "      <th>2. high</th>\n",
       "      <th>3. low</th>\n",
       "      <th>4. close</th>\n",
       "      <th>5. volume</th>\n",
       "      <th>stock</th>\n",
       "    </tr>\n",
       "  </thead>\n",
       "  <tbody>\n",
       "    <tr>\n",
       "      <th>2022-05-10</th>\n",
       "      <td>155.5200</td>\n",
       "      <td>156.7400</td>\n",
       "      <td>152.9300</td>\n",
       "      <td>154.5100</td>\n",
       "      <td>115366736</td>\n",
       "      <td>AAPL</td>\n",
       "    </tr>\n",
       "    <tr>\n",
       "      <th>2022-05-09</th>\n",
       "      <td>154.9250</td>\n",
       "      <td>155.8300</td>\n",
       "      <td>151.4900</td>\n",
       "      <td>152.0600</td>\n",
       "      <td>131577921</td>\n",
       "      <td>AAPL</td>\n",
       "    </tr>\n",
       "    <tr>\n",
       "      <th>2022-05-06</th>\n",
       "      <td>156.0100</td>\n",
       "      <td>159.4400</td>\n",
       "      <td>154.1800</td>\n",
       "      <td>157.2800</td>\n",
       "      <td>116124647</td>\n",
       "      <td>AAPL</td>\n",
       "    </tr>\n",
       "    <tr>\n",
       "      <th>2022-05-05</th>\n",
       "      <td>163.8500</td>\n",
       "      <td>164.0800</td>\n",
       "      <td>154.9500</td>\n",
       "      <td>156.7700</td>\n",
       "      <td>130525275</td>\n",
       "      <td>AAPL</td>\n",
       "    </tr>\n",
       "    <tr>\n",
       "      <th>2022-05-04</th>\n",
       "      <td>159.6700</td>\n",
       "      <td>166.4800</td>\n",
       "      <td>159.2600</td>\n",
       "      <td>166.0200</td>\n",
       "      <td>107521649</td>\n",
       "      <td>AAPL</td>\n",
       "    </tr>\n",
       "    <tr>\n",
       "      <th>...</th>\n",
       "      <td>...</td>\n",
       "      <td>...</td>\n",
       "      <td>...</td>\n",
       "      <td>...</td>\n",
       "      <td>...</td>\n",
       "      <td>...</td>\n",
       "    </tr>\n",
       "    <tr>\n",
       "      <th>2015-01-08</th>\n",
       "      <td>109.2300</td>\n",
       "      <td>112.1500</td>\n",
       "      <td>108.7000</td>\n",
       "      <td>111.8900</td>\n",
       "      <td>59364547</td>\n",
       "      <td>AAPL</td>\n",
       "    </tr>\n",
       "    <tr>\n",
       "      <th>2015-01-07</th>\n",
       "      <td>107.2000</td>\n",
       "      <td>108.2000</td>\n",
       "      <td>106.6950</td>\n",
       "      <td>107.7500</td>\n",
       "      <td>40105934</td>\n",
       "      <td>AAPL</td>\n",
       "    </tr>\n",
       "    <tr>\n",
       "      <th>2015-01-06</th>\n",
       "      <td>106.5400</td>\n",
       "      <td>107.4300</td>\n",
       "      <td>104.6300</td>\n",
       "      <td>106.2600</td>\n",
       "      <td>65797116</td>\n",
       "      <td>AAPL</td>\n",
       "    </tr>\n",
       "    <tr>\n",
       "      <th>2015-01-05</th>\n",
       "      <td>108.2900</td>\n",
       "      <td>108.6500</td>\n",
       "      <td>105.4100</td>\n",
       "      <td>106.2500</td>\n",
       "      <td>64285491</td>\n",
       "      <td>AAPL</td>\n",
       "    </tr>\n",
       "    <tr>\n",
       "      <th>2015-01-02</th>\n",
       "      <td>111.3900</td>\n",
       "      <td>111.4400</td>\n",
       "      <td>107.3500</td>\n",
       "      <td>109.3300</td>\n",
       "      <td>53204626</td>\n",
       "      <td>AAPL</td>\n",
       "    </tr>\n",
       "  </tbody>\n",
       "</table>\n",
       "<p>1852 rows × 6 columns</p>\n",
       "</div>"
      ],
      "text/plain": [
       "             1. open   2. high    3. low  4. close  5. volume stock\n",
       "2022-05-10  155.5200  156.7400  152.9300  154.5100  115366736  AAPL\n",
       "2022-05-09  154.9250  155.8300  151.4900  152.0600  131577921  AAPL\n",
       "2022-05-06  156.0100  159.4400  154.1800  157.2800  116124647  AAPL\n",
       "2022-05-05  163.8500  164.0800  154.9500  156.7700  130525275  AAPL\n",
       "2022-05-04  159.6700  166.4800  159.2600  166.0200  107521649  AAPL\n",
       "...              ...       ...       ...       ...        ...   ...\n",
       "2015-01-08  109.2300  112.1500  108.7000  111.8900   59364547  AAPL\n",
       "2015-01-07  107.2000  108.2000  106.6950  107.7500   40105934  AAPL\n",
       "2015-01-06  106.5400  107.4300  104.6300  106.2600   65797116  AAPL\n",
       "2015-01-05  108.2900  108.6500  105.4100  106.2500   64285491  AAPL\n",
       "2015-01-02  111.3900  111.4400  107.3500  109.3300   53204626  AAPL\n",
       "\n",
       "[1852 rows x 6 columns]"
      ]
     },
     "execution_count": 53,
     "metadata": {},
     "output_type": "execute_result"
    }
   ],
   "source": [
    "df_data"
   ]
  },
  {
   "cell_type": "markdown",
   "metadata": {},
   "source": [
    "### Step 6. Repeat the two previous steps for a few other stocks, always creating a new dataframe: Tesla, IBM and Microsoft. (Ticker symbols TSLA, IBM and MSFT.)"
   ]
  },
  {
   "cell_type": "code",
   "execution_count": 181,
   "metadata": {},
   "outputs": [
    {
     "name": "stdout",
     "output_type": "stream",
     "text": [
      "https://www.alphavantage.co/query?function=TIME_SERIES_DAILY&symbol=TSLA&outputsize=full&apikey=IDU1MTXIREUYO8OO\n",
      "             1. open   2. high    3. low  4. close 5. volume stock\n",
      "2022-05-10  819.3100  825.3600  774.2500  800.0400  27988983  TSLA\n",
      "2022-05-09  836.4500  845.6300  781.1500  787.1100  30270074  TSLA\n",
      "2022-05-06  887.0000  888.0000  843.1050  865.6500  24301037  TSLA\n",
      "2022-05-05  939.2100  945.6000  857.7000  873.2800  30839731  TSLA\n",
      "2022-05-04  903.9400  955.5000  885.2800  952.6200  27039655  TSLA\n",
      "...              ...       ...       ...       ...       ...   ...\n",
      "2015-01-08  212.8100  213.7999  210.0100  210.6150   3442509  TSLA\n",
      "2015-01-07  213.3500  214.7800  209.7800  210.9500   2968390  TSLA\n",
      "2015-01-06  210.0600  214.2000  204.2100  211.2800   6261936  TSLA\n",
      "2015-01-05  214.5500  216.5000  207.1626  210.0900   5368477  TSLA\n",
      "2015-01-02  222.8700  223.2500  213.2600  219.3100   4764443  TSLA\n",
      "\n",
      "[1852 rows x 6 columns]\n",
      "https://www.alphavantage.co/query?function=TIME_SERIES_DAILY&symbol=IBM&outputsize=full&apikey=IDU1MTXIREUYO8OO\n",
      "             1. open   2. high    3. low  4. close 5. volume stock\n",
      "2022-05-10  135.0000  135.4100  128.4300  129.1300   8642398   IBM\n",
      "2022-05-09  134.4100  136.3450  133.3150  134.4400   7647933   IBM\n",
      "2022-05-06  135.4700  137.9900  135.4700  137.6700   7306396   IBM\n",
      "2022-05-05  136.4600  137.2600  134.7600  135.9200   5957434   IBM\n",
      "2022-05-04  132.8700  137.8700  132.1400  137.4000   5913705   IBM\n",
      "...              ...       ...       ...       ...       ...   ...\n",
      "2015-01-08  156.2400  159.0440  155.5500  158.4200   4240585   IBM\n",
      "2015-01-07  157.2000  157.2000  154.0300  155.0500   4701015   IBM\n",
      "2015-01-06  159.6700  159.9600  155.1700  156.0700   6145670   IBM\n",
      "2015-01-05  161.2700  161.2700  159.1900  159.5100   4880389   IBM\n",
      "2015-01-02  161.3100  163.3100  161.0000  162.0600   5525341   IBM\n",
      "\n",
      "[1852 rows x 6 columns]\n",
      "https://www.alphavantage.co/query?function=TIME_SERIES_DAILY&symbol=MSFT&outputsize=full&apikey=IDU1MTXIREUYO8OO\n",
      "             1. open   2. high    3. low  4. close 5. volume stock\n",
      "2022-05-10  271.6900  273.7500  265.0700  269.5000  39336424  MSFT\n",
      "2022-05-09  270.0600  272.3600  263.3200  264.5800  47725952  MSFT\n",
      "2022-05-06  274.8050  279.2500  271.2700  274.7300  37780322  MSFT\n",
      "2022-05-05  285.5400  286.3500  274.3400  277.3500  43260386  MSFT\n",
      "2022-05-04  282.5900  290.8800  276.7300  289.9800  33463409  MSFT\n",
      "...              ...       ...       ...       ...       ...   ...\n",
      "2015-01-08   46.7500   47.7499   46.7200   47.5900  29645202  MSFT\n",
      "2015-01-07   45.9800   46.4600   45.4900   46.2300  29114061  MSFT\n",
      "2015-01-06   46.3800   46.7490   45.5400   45.6500  36447854  MSFT\n",
      "2015-01-05   46.3700   46.7300   46.2500   46.3250  39673865  MSFT\n",
      "2015-01-02   46.6600   47.4200   46.5400   46.7600  27913852  MSFT\n",
      "\n",
      "[1852 rows x 6 columns]\n"
     ]
    }
   ],
   "source": [
    "key = 'IDU1MTXIREUYO8OO'\n",
    "df_for = {}\n",
    "i=0\n",
    "for symbol in ['TSLA', 'IBM', 'MSFT']:\n",
    "    url = f'https://www.alphavantage.co/query?function=TIME_SERIES_DAILY&symbol={symbol}&outputsize=full&apikey='+key\n",
    "    print(url)\n",
    "    r = requests.get(url)\n",
    "    data = r.json()\n",
    "    df_for[i] = pd.DataFrame(data.get('Time Series (Daily)')).T\n",
    "    df_for[i] = df_for.get(i)[df_for[i].index>='2015-01-01']\n",
    "    df_for[i]['stock']=symbol\n",
    "    print(df_for[i])\n",
    "\n",
    "    i+=1"
   ]
  },
  {
   "cell_type": "markdown",
   "metadata": {},
   "source": [
    "### Step 7. Combine the four separate dataFrames into one combined dataFrame df that holds the information for all four stocks"
   ]
  },
  {
   "cell_type": "code",
   "execution_count": 182,
   "metadata": {},
   "outputs": [],
   "source": [
    "df_full = pd.concat([df_for[0],df_for[1],df_for[2],df_data])"
   ]
  },
  {
   "cell_type": "code",
   "execution_count": 189,
   "metadata": {},
   "outputs": [
    {
     "data": {
      "text/plain": [
       "DatetimeIndex(['2022-05-10', '2022-05-09', '2022-05-06', '2022-05-05',\n",
       "               '2022-05-04', '2022-05-03', '2022-05-02', '2022-04-29',\n",
       "               '2022-04-28', '2022-04-27',\n",
       "               ...\n",
       "               '2015-01-15', '2015-01-14', '2015-01-13', '2015-01-12',\n",
       "               '2015-01-09', '2015-01-08', '2015-01-07', '2015-01-06',\n",
       "               '2015-01-05', '2015-01-02'],\n",
       "              dtype='datetime64[ns]', length=7408, freq=None)"
      ]
     },
     "execution_count": 189,
     "metadata": {},
     "output_type": "execute_result"
    }
   ],
   "source": [
    "df_full.index.astype('datetime64[ns]')"
   ]
  },
  {
   "cell_type": "code",
   "execution_count": 192,
   "metadata": {},
   "outputs": [],
   "source": [
    "df_full.index = df_full.index.astype('datetime64[ns]')"
   ]
  },
  {
   "cell_type": "code",
   "execution_count": 198,
   "metadata": {},
   "outputs": [],
   "source": [
    "df_full.index.name = 'date'"
   ]
  },
  {
   "cell_type": "code",
   "execution_count": 199,
   "metadata": {},
   "outputs": [
    {
     "data": {
      "text/plain": [
       "DatetimeIndex(['2022-05-10', '2022-05-09', '2022-05-06', '2022-05-05',\n",
       "               '2022-05-04', '2022-05-03', '2022-05-02', '2022-04-29',\n",
       "               '2022-04-28', '2022-04-27',\n",
       "               ...\n",
       "               '2015-01-15', '2015-01-14', '2015-01-13', '2015-01-12',\n",
       "               '2015-01-09', '2015-01-08', '2015-01-07', '2015-01-06',\n",
       "               '2015-01-05', '2015-01-02'],\n",
       "              dtype='datetime64[ns]', name='date', length=7408, freq=None)"
      ]
     },
     "execution_count": 199,
     "metadata": {},
     "output_type": "execute_result"
    }
   ],
   "source": [
    "df_full.index"
   ]
  },
  {
   "cell_type": "code",
   "execution_count": 200,
   "metadata": {},
   "outputs": [
    {
     "data": {
      "text/html": [
       "<div>\n",
       "<style scoped>\n",
       "    .dataframe tbody tr th:only-of-type {\n",
       "        vertical-align: middle;\n",
       "    }\n",
       "\n",
       "    .dataframe tbody tr th {\n",
       "        vertical-align: top;\n",
       "    }\n",
       "\n",
       "    .dataframe thead th {\n",
       "        text-align: right;\n",
       "    }\n",
       "</style>\n",
       "<table border=\"1\" class=\"dataframe\">\n",
       "  <thead>\n",
       "    <tr style=\"text-align: right;\">\n",
       "      <th></th>\n",
       "      <th>1. open</th>\n",
       "      <th>2. high</th>\n",
       "      <th>3. low</th>\n",
       "      <th>4. close</th>\n",
       "      <th>5. volume</th>\n",
       "      <th>stock</th>\n",
       "    </tr>\n",
       "    <tr>\n",
       "      <th>date</th>\n",
       "      <th></th>\n",
       "      <th></th>\n",
       "      <th></th>\n",
       "      <th></th>\n",
       "      <th></th>\n",
       "      <th></th>\n",
       "    </tr>\n",
       "  </thead>\n",
       "  <tbody>\n",
       "    <tr>\n",
       "      <th>2022-05-10</th>\n",
       "      <td>819.3100</td>\n",
       "      <td>825.3600</td>\n",
       "      <td>774.2500</td>\n",
       "      <td>800.0400</td>\n",
       "      <td>27988983</td>\n",
       "      <td>TSLA</td>\n",
       "    </tr>\n",
       "    <tr>\n",
       "      <th>2022-05-09</th>\n",
       "      <td>836.4500</td>\n",
       "      <td>845.6300</td>\n",
       "      <td>781.1500</td>\n",
       "      <td>787.1100</td>\n",
       "      <td>30270074</td>\n",
       "      <td>TSLA</td>\n",
       "    </tr>\n",
       "    <tr>\n",
       "      <th>2022-05-06</th>\n",
       "      <td>887.0000</td>\n",
       "      <td>888.0000</td>\n",
       "      <td>843.1050</td>\n",
       "      <td>865.6500</td>\n",
       "      <td>24301037</td>\n",
       "      <td>TSLA</td>\n",
       "    </tr>\n",
       "    <tr>\n",
       "      <th>2022-05-05</th>\n",
       "      <td>939.2100</td>\n",
       "      <td>945.6000</td>\n",
       "      <td>857.7000</td>\n",
       "      <td>873.2800</td>\n",
       "      <td>30839731</td>\n",
       "      <td>TSLA</td>\n",
       "    </tr>\n",
       "    <tr>\n",
       "      <th>2022-05-04</th>\n",
       "      <td>903.9400</td>\n",
       "      <td>955.5000</td>\n",
       "      <td>885.2800</td>\n",
       "      <td>952.6200</td>\n",
       "      <td>27039655</td>\n",
       "      <td>TSLA</td>\n",
       "    </tr>\n",
       "    <tr>\n",
       "      <th>...</th>\n",
       "      <td>...</td>\n",
       "      <td>...</td>\n",
       "      <td>...</td>\n",
       "      <td>...</td>\n",
       "      <td>...</td>\n",
       "      <td>...</td>\n",
       "    </tr>\n",
       "    <tr>\n",
       "      <th>2015-01-08</th>\n",
       "      <td>109.2300</td>\n",
       "      <td>112.1500</td>\n",
       "      <td>108.7000</td>\n",
       "      <td>111.8900</td>\n",
       "      <td>59364547</td>\n",
       "      <td>AAPL</td>\n",
       "    </tr>\n",
       "    <tr>\n",
       "      <th>2015-01-07</th>\n",
       "      <td>107.2000</td>\n",
       "      <td>108.2000</td>\n",
       "      <td>106.6950</td>\n",
       "      <td>107.7500</td>\n",
       "      <td>40105934</td>\n",
       "      <td>AAPL</td>\n",
       "    </tr>\n",
       "    <tr>\n",
       "      <th>2015-01-06</th>\n",
       "      <td>106.5400</td>\n",
       "      <td>107.4300</td>\n",
       "      <td>104.6300</td>\n",
       "      <td>106.2600</td>\n",
       "      <td>65797116</td>\n",
       "      <td>AAPL</td>\n",
       "    </tr>\n",
       "    <tr>\n",
       "      <th>2015-01-05</th>\n",
       "      <td>108.2900</td>\n",
       "      <td>108.6500</td>\n",
       "      <td>105.4100</td>\n",
       "      <td>106.2500</td>\n",
       "      <td>64285491</td>\n",
       "      <td>AAPL</td>\n",
       "    </tr>\n",
       "    <tr>\n",
       "      <th>2015-01-02</th>\n",
       "      <td>111.3900</td>\n",
       "      <td>111.4400</td>\n",
       "      <td>107.3500</td>\n",
       "      <td>109.3300</td>\n",
       "      <td>53204626</td>\n",
       "      <td>AAPL</td>\n",
       "    </tr>\n",
       "  </tbody>\n",
       "</table>\n",
       "<p>7408 rows × 6 columns</p>\n",
       "</div>"
      ],
      "text/plain": [
       "             1. open   2. high    3. low  4. close 5. volume stock\n",
       "date                                                              \n",
       "2022-05-10  819.3100  825.3600  774.2500  800.0400  27988983  TSLA\n",
       "2022-05-09  836.4500  845.6300  781.1500  787.1100  30270074  TSLA\n",
       "2022-05-06  887.0000  888.0000  843.1050  865.6500  24301037  TSLA\n",
       "2022-05-05  939.2100  945.6000  857.7000  873.2800  30839731  TSLA\n",
       "2022-05-04  903.9400  955.5000  885.2800  952.6200  27039655  TSLA\n",
       "...              ...       ...       ...       ...       ...   ...\n",
       "2015-01-08  109.2300  112.1500  108.7000  111.8900  59364547  AAPL\n",
       "2015-01-07  107.2000  108.2000  106.6950  107.7500  40105934  AAPL\n",
       "2015-01-06  106.5400  107.4300  104.6300  106.2600  65797116  AAPL\n",
       "2015-01-05  108.2900  108.6500  105.4100  106.2500  64285491  AAPL\n",
       "2015-01-02  111.3900  111.4400  107.3500  109.3300  53204626  AAPL\n",
       "\n",
       "[7408 rows x 6 columns]"
      ]
     },
     "execution_count": 200,
     "metadata": {},
     "output_type": "execute_result"
    }
   ],
   "source": [
    "df_full"
   ]
  },
  {
   "cell_type": "markdown",
   "metadata": {},
   "source": [
    "### Step 8. Shift the stock column into the index (making it a multi-level index consisting of the ticker symbol and the date)."
   ]
  },
  {
   "cell_type": "code",
   "execution_count": 201,
   "metadata": {},
   "outputs": [],
   "source": [
    "df_full = df_full.set_index('stock', drop=False, append=True)"
   ]
  },
  {
   "cell_type": "code",
   "execution_count": 202,
   "metadata": {},
   "outputs": [
    {
     "data": {
      "text/html": [
       "<div>\n",
       "<style scoped>\n",
       "    .dataframe tbody tr th:only-of-type {\n",
       "        vertical-align: middle;\n",
       "    }\n",
       "\n",
       "    .dataframe tbody tr th {\n",
       "        vertical-align: top;\n",
       "    }\n",
       "\n",
       "    .dataframe thead th {\n",
       "        text-align: right;\n",
       "    }\n",
       "</style>\n",
       "<table border=\"1\" class=\"dataframe\">\n",
       "  <thead>\n",
       "    <tr style=\"text-align: right;\">\n",
       "      <th></th>\n",
       "      <th></th>\n",
       "      <th>1. open</th>\n",
       "      <th>2. high</th>\n",
       "      <th>3. low</th>\n",
       "      <th>4. close</th>\n",
       "      <th>5. volume</th>\n",
       "      <th>stock</th>\n",
       "    </tr>\n",
       "    <tr>\n",
       "      <th>date</th>\n",
       "      <th>stock</th>\n",
       "      <th></th>\n",
       "      <th></th>\n",
       "      <th></th>\n",
       "      <th></th>\n",
       "      <th></th>\n",
       "      <th></th>\n",
       "    </tr>\n",
       "  </thead>\n",
       "  <tbody>\n",
       "    <tr>\n",
       "      <th>2022-05-10</th>\n",
       "      <th>TSLA</th>\n",
       "      <td>819.3100</td>\n",
       "      <td>825.3600</td>\n",
       "      <td>774.2500</td>\n",
       "      <td>800.0400</td>\n",
       "      <td>27988983</td>\n",
       "      <td>TSLA</td>\n",
       "    </tr>\n",
       "    <tr>\n",
       "      <th>2022-05-09</th>\n",
       "      <th>TSLA</th>\n",
       "      <td>836.4500</td>\n",
       "      <td>845.6300</td>\n",
       "      <td>781.1500</td>\n",
       "      <td>787.1100</td>\n",
       "      <td>30270074</td>\n",
       "      <td>TSLA</td>\n",
       "    </tr>\n",
       "    <tr>\n",
       "      <th>2022-05-06</th>\n",
       "      <th>TSLA</th>\n",
       "      <td>887.0000</td>\n",
       "      <td>888.0000</td>\n",
       "      <td>843.1050</td>\n",
       "      <td>865.6500</td>\n",
       "      <td>24301037</td>\n",
       "      <td>TSLA</td>\n",
       "    </tr>\n",
       "    <tr>\n",
       "      <th>2022-05-05</th>\n",
       "      <th>TSLA</th>\n",
       "      <td>939.2100</td>\n",
       "      <td>945.6000</td>\n",
       "      <td>857.7000</td>\n",
       "      <td>873.2800</td>\n",
       "      <td>30839731</td>\n",
       "      <td>TSLA</td>\n",
       "    </tr>\n",
       "    <tr>\n",
       "      <th>2022-05-04</th>\n",
       "      <th>TSLA</th>\n",
       "      <td>903.9400</td>\n",
       "      <td>955.5000</td>\n",
       "      <td>885.2800</td>\n",
       "      <td>952.6200</td>\n",
       "      <td>27039655</td>\n",
       "      <td>TSLA</td>\n",
       "    </tr>\n",
       "    <tr>\n",
       "      <th>...</th>\n",
       "      <th>...</th>\n",
       "      <td>...</td>\n",
       "      <td>...</td>\n",
       "      <td>...</td>\n",
       "      <td>...</td>\n",
       "      <td>...</td>\n",
       "      <td>...</td>\n",
       "    </tr>\n",
       "    <tr>\n",
       "      <th>2015-01-08</th>\n",
       "      <th>AAPL</th>\n",
       "      <td>109.2300</td>\n",
       "      <td>112.1500</td>\n",
       "      <td>108.7000</td>\n",
       "      <td>111.8900</td>\n",
       "      <td>59364547</td>\n",
       "      <td>AAPL</td>\n",
       "    </tr>\n",
       "    <tr>\n",
       "      <th>2015-01-07</th>\n",
       "      <th>AAPL</th>\n",
       "      <td>107.2000</td>\n",
       "      <td>108.2000</td>\n",
       "      <td>106.6950</td>\n",
       "      <td>107.7500</td>\n",
       "      <td>40105934</td>\n",
       "      <td>AAPL</td>\n",
       "    </tr>\n",
       "    <tr>\n",
       "      <th>2015-01-06</th>\n",
       "      <th>AAPL</th>\n",
       "      <td>106.5400</td>\n",
       "      <td>107.4300</td>\n",
       "      <td>104.6300</td>\n",
       "      <td>106.2600</td>\n",
       "      <td>65797116</td>\n",
       "      <td>AAPL</td>\n",
       "    </tr>\n",
       "    <tr>\n",
       "      <th>2015-01-05</th>\n",
       "      <th>AAPL</th>\n",
       "      <td>108.2900</td>\n",
       "      <td>108.6500</td>\n",
       "      <td>105.4100</td>\n",
       "      <td>106.2500</td>\n",
       "      <td>64285491</td>\n",
       "      <td>AAPL</td>\n",
       "    </tr>\n",
       "    <tr>\n",
       "      <th>2015-01-02</th>\n",
       "      <th>AAPL</th>\n",
       "      <td>111.3900</td>\n",
       "      <td>111.4400</td>\n",
       "      <td>107.3500</td>\n",
       "      <td>109.3300</td>\n",
       "      <td>53204626</td>\n",
       "      <td>AAPL</td>\n",
       "    </tr>\n",
       "  </tbody>\n",
       "</table>\n",
       "<p>7408 rows × 6 columns</p>\n",
       "</div>"
      ],
      "text/plain": [
       "                   1. open   2. high    3. low  4. close 5. volume stock\n",
       "date       stock                                                        \n",
       "2022-05-10 TSLA   819.3100  825.3600  774.2500  800.0400  27988983  TSLA\n",
       "2022-05-09 TSLA   836.4500  845.6300  781.1500  787.1100  30270074  TSLA\n",
       "2022-05-06 TSLA   887.0000  888.0000  843.1050  865.6500  24301037  TSLA\n",
       "2022-05-05 TSLA   939.2100  945.6000  857.7000  873.2800  30839731  TSLA\n",
       "2022-05-04 TSLA   903.9400  955.5000  885.2800  952.6200  27039655  TSLA\n",
       "...                    ...       ...       ...       ...       ...   ...\n",
       "2015-01-08 AAPL   109.2300  112.1500  108.7000  111.8900  59364547  AAPL\n",
       "2015-01-07 AAPL   107.2000  108.2000  106.6950  107.7500  40105934  AAPL\n",
       "2015-01-06 AAPL   106.5400  107.4300  104.6300  106.2600  65797116  AAPL\n",
       "2015-01-05 AAPL   108.2900  108.6500  105.4100  106.2500  64285491  AAPL\n",
       "2015-01-02 AAPL   111.3900  111.4400  107.3500  109.3300  53204626  AAPL\n",
       "\n",
       "[7408 rows x 6 columns]"
      ]
     },
     "execution_count": 202,
     "metadata": {},
     "output_type": "execute_result"
    }
   ],
   "source": [
    "df_full"
   ]
  },
  {
   "cell_type": "markdown",
   "metadata": {},
   "source": [
    "### Step 7. Create a dataFrame called vol, with the volume values."
   ]
  },
  {
   "cell_type": "code",
   "execution_count": 203,
   "metadata": {},
   "outputs": [],
   "source": [
    "df_vol=df_full['5. volume']"
   ]
  },
  {
   "cell_type": "code",
   "execution_count": 204,
   "metadata": {},
   "outputs": [],
   "source": [
    "df_vol = pd.DataFrame(df_vol)"
   ]
  },
  {
   "cell_type": "code",
   "execution_count": 205,
   "metadata": {},
   "outputs": [
    {
     "data": {
      "text/html": [
       "<div>\n",
       "<style scoped>\n",
       "    .dataframe tbody tr th:only-of-type {\n",
       "        vertical-align: middle;\n",
       "    }\n",
       "\n",
       "    .dataframe tbody tr th {\n",
       "        vertical-align: top;\n",
       "    }\n",
       "\n",
       "    .dataframe thead th {\n",
       "        text-align: right;\n",
       "    }\n",
       "</style>\n",
       "<table border=\"1\" class=\"dataframe\">\n",
       "  <thead>\n",
       "    <tr style=\"text-align: right;\">\n",
       "      <th></th>\n",
       "      <th></th>\n",
       "      <th>5. volume</th>\n",
       "    </tr>\n",
       "    <tr>\n",
       "      <th>date</th>\n",
       "      <th>stock</th>\n",
       "      <th></th>\n",
       "    </tr>\n",
       "  </thead>\n",
       "  <tbody>\n",
       "    <tr>\n",
       "      <th>2022-05-10</th>\n",
       "      <th>TSLA</th>\n",
       "      <td>27988983</td>\n",
       "    </tr>\n",
       "    <tr>\n",
       "      <th>2022-05-09</th>\n",
       "      <th>TSLA</th>\n",
       "      <td>30270074</td>\n",
       "    </tr>\n",
       "    <tr>\n",
       "      <th>2022-05-06</th>\n",
       "      <th>TSLA</th>\n",
       "      <td>24301037</td>\n",
       "    </tr>\n",
       "    <tr>\n",
       "      <th>2022-05-05</th>\n",
       "      <th>TSLA</th>\n",
       "      <td>30839731</td>\n",
       "    </tr>\n",
       "    <tr>\n",
       "      <th>2022-05-04</th>\n",
       "      <th>TSLA</th>\n",
       "      <td>27039655</td>\n",
       "    </tr>\n",
       "    <tr>\n",
       "      <th>...</th>\n",
       "      <th>...</th>\n",
       "      <td>...</td>\n",
       "    </tr>\n",
       "    <tr>\n",
       "      <th>2015-01-08</th>\n",
       "      <th>AAPL</th>\n",
       "      <td>59364547</td>\n",
       "    </tr>\n",
       "    <tr>\n",
       "      <th>2015-01-07</th>\n",
       "      <th>AAPL</th>\n",
       "      <td>40105934</td>\n",
       "    </tr>\n",
       "    <tr>\n",
       "      <th>2015-01-06</th>\n",
       "      <th>AAPL</th>\n",
       "      <td>65797116</td>\n",
       "    </tr>\n",
       "    <tr>\n",
       "      <th>2015-01-05</th>\n",
       "      <th>AAPL</th>\n",
       "      <td>64285491</td>\n",
       "    </tr>\n",
       "    <tr>\n",
       "      <th>2015-01-02</th>\n",
       "      <th>AAPL</th>\n",
       "      <td>53204626</td>\n",
       "    </tr>\n",
       "  </tbody>\n",
       "</table>\n",
       "<p>7408 rows × 1 columns</p>\n",
       "</div>"
      ],
      "text/plain": [
       "                 5. volume\n",
       "date       stock          \n",
       "2022-05-10 TSLA   27988983\n",
       "2022-05-09 TSLA   30270074\n",
       "2022-05-06 TSLA   24301037\n",
       "2022-05-05 TSLA   30839731\n",
       "2022-05-04 TSLA   27039655\n",
       "...                    ...\n",
       "2015-01-08 AAPL   59364547\n",
       "2015-01-07 AAPL   40105934\n",
       "2015-01-06 AAPL   65797116\n",
       "2015-01-05 AAPL   64285491\n",
       "2015-01-02 AAPL   53204626\n",
       "\n",
       "[7408 rows x 1 columns]"
      ]
     },
     "execution_count": 205,
     "metadata": {},
     "output_type": "execute_result"
    }
   ],
   "source": [
    "df_vol"
   ]
  },
  {
   "cell_type": "markdown",
   "metadata": {},
   "source": [
    "### Step 8. Aggregate the data of volume to weekly.\n",
    "Hint: Be careful to not sum data from the same week of 2015 and other years."
   ]
  },
  {
   "cell_type": "code",
   "execution_count": 212,
   "metadata": {},
   "outputs": [
    {
     "data": {
      "text/plain": [
       "Int64Index([2022, 2022, 2022, 2022, 2022, 2022, 2022, 2022, 2022, 2022,\n",
       "            ...\n",
       "            2015, 2015, 2015, 2015, 2015, 2015, 2015, 2015, 2015, 2015],\n",
       "           dtype='int64', name='date', length=7408)"
      ]
     },
     "execution_count": 212,
     "metadata": {},
     "output_type": "execute_result"
    }
   ],
   "source": [
    "df_vol.index.get_level_values('date').year"
   ]
  },
  {
   "cell_type": "code",
   "execution_count": 180,
   "metadata": {},
   "outputs": [],
   "source": [
    "df_vol."
   ]
  },
  {
   "cell_type": "code",
   "execution_count": 103,
   "metadata": {},
   "outputs": [],
   "source": []
  },
  {
   "cell_type": "code",
   "execution_count": 141,
   "metadata": {},
   "outputs": [
    {
     "data": {
      "text/plain": [
       "dtype('O')"
      ]
     },
     "execution_count": 141,
     "metadata": {},
     "output_type": "execute_result"
    }
   ],
   "source": [
    "df_vol.index.get_level_values(0).dtype"
   ]
  },
  {
   "cell_type": "code",
   "execution_count": 248,
   "metadata": {},
   "outputs": [
    {
     "data": {
      "text/html": [
       "<div>\n",
       "<style scoped>\n",
       "    .dataframe tbody tr th:only-of-type {\n",
       "        vertical-align: middle;\n",
       "    }\n",
       "\n",
       "    .dataframe tbody tr th {\n",
       "        vertical-align: top;\n",
       "    }\n",
       "\n",
       "    .dataframe thead th {\n",
       "        text-align: right;\n",
       "    }\n",
       "</style>\n",
       "<table border=\"1\" class=\"dataframe\">\n",
       "  <thead>\n",
       "    <tr style=\"text-align: right;\">\n",
       "      <th></th>\n",
       "      <th></th>\n",
       "      <th>5. volume</th>\n",
       "    </tr>\n",
       "    <tr>\n",
       "      <th>date</th>\n",
       "      <th>stock</th>\n",
       "      <th></th>\n",
       "    </tr>\n",
       "  </thead>\n",
       "  <tbody>\n",
       "    <tr>\n",
       "      <th>2022-05-10</th>\n",
       "      <th>TSLA</th>\n",
       "      <td>27988983</td>\n",
       "    </tr>\n",
       "    <tr>\n",
       "      <th>2022-05-09</th>\n",
       "      <th>TSLA</th>\n",
       "      <td>30270074</td>\n",
       "    </tr>\n",
       "    <tr>\n",
       "      <th>2022-05-06</th>\n",
       "      <th>TSLA</th>\n",
       "      <td>24301037</td>\n",
       "    </tr>\n",
       "    <tr>\n",
       "      <th>2022-05-05</th>\n",
       "      <th>TSLA</th>\n",
       "      <td>30839731</td>\n",
       "    </tr>\n",
       "    <tr>\n",
       "      <th>2022-05-04</th>\n",
       "      <th>TSLA</th>\n",
       "      <td>27039655</td>\n",
       "    </tr>\n",
       "    <tr>\n",
       "      <th>...</th>\n",
       "      <th>...</th>\n",
       "      <td>...</td>\n",
       "    </tr>\n",
       "    <tr>\n",
       "      <th>2015-01-08</th>\n",
       "      <th>AAPL</th>\n",
       "      <td>59364547</td>\n",
       "    </tr>\n",
       "    <tr>\n",
       "      <th>2015-01-07</th>\n",
       "      <th>AAPL</th>\n",
       "      <td>40105934</td>\n",
       "    </tr>\n",
       "    <tr>\n",
       "      <th>2015-01-06</th>\n",
       "      <th>AAPL</th>\n",
       "      <td>65797116</td>\n",
       "    </tr>\n",
       "    <tr>\n",
       "      <th>2015-01-05</th>\n",
       "      <th>AAPL</th>\n",
       "      <td>64285491</td>\n",
       "    </tr>\n",
       "    <tr>\n",
       "      <th>2015-01-02</th>\n",
       "      <th>AAPL</th>\n",
       "      <td>53204626</td>\n",
       "    </tr>\n",
       "  </tbody>\n",
       "</table>\n",
       "<p>7408 rows × 1 columns</p>\n",
       "</div>"
      ],
      "text/plain": [
       "                 5. volume\n",
       "date       stock          \n",
       "2022-05-10 TSLA   27988983\n",
       "2022-05-09 TSLA   30270074\n",
       "2022-05-06 TSLA   24301037\n",
       "2022-05-05 TSLA   30839731\n",
       "2022-05-04 TSLA   27039655\n",
       "...                    ...\n",
       "2015-01-08 AAPL   59364547\n",
       "2015-01-07 AAPL   40105934\n",
       "2015-01-06 AAPL   65797116\n",
       "2015-01-05 AAPL   64285491\n",
       "2015-01-02 AAPL   53204626\n",
       "\n",
       "[7408 rows x 1 columns]"
      ]
     },
     "execution_count": 248,
     "metadata": {},
     "output_type": "execute_result"
    }
   ],
   "source": [
    "df_vol"
   ]
  },
  {
   "cell_type": "code",
   "execution_count": 251,
   "metadata": {},
   "outputs": [],
   "source": [
    "df_vol.iloc[:,0] = df_vol.iloc[:,0].astype(int)"
   ]
  },
  {
   "cell_type": "code",
   "execution_count": 252,
   "metadata": {},
   "outputs": [
    {
     "name": "stderr",
     "output_type": "stream",
     "text": [
      "C:\\Users\\holacons\\AppData\\Local\\Temp\\ipykernel_2136\\3374870119.py:1: FutureWarning: weekofyear and week have been deprecated, please use DatetimeIndex.isocalendar().week instead, which returns a Series. To exactly reproduce the behavior of week and weekofyear and return an Index, you may call pd.Int64Index(idx.isocalendar().week)\n",
      "  df_group_week = df_vol.groupby([df_vol.index.get_level_values('date').year, df_vol.index.get_level_values('date').weekofyear, df_vol.index.get_level_values('stock')]).sum()\n"
     ]
    }
   ],
   "source": [
    "df_group_week = df_vol.groupby([df_vol.index.get_level_values('date').year, df_vol.index.get_level_values('date').weekofyear, df_vol.index.get_level_values('stock')]).sum()"
   ]
  },
  {
   "cell_type": "code",
   "execution_count": null,
   "metadata": {},
   "outputs": [],
   "source": [
    "df_group_week.index.names = ['year', 'week', 'stock']"
   ]
  },
  {
   "cell_type": "code",
   "execution_count": 287,
   "metadata": {},
   "outputs": [
    {
     "data": {
      "text/html": [
       "<div>\n",
       "<style scoped>\n",
       "    .dataframe tbody tr th:only-of-type {\n",
       "        vertical-align: middle;\n",
       "    }\n",
       "\n",
       "    .dataframe tbody tr th {\n",
       "        vertical-align: top;\n",
       "    }\n",
       "\n",
       "    .dataframe thead tr th {\n",
       "        text-align: left;\n",
       "    }\n",
       "\n",
       "    .dataframe thead tr:last-of-type th {\n",
       "        text-align: right;\n",
       "    }\n",
       "</style>\n",
       "<table border=\"1\" class=\"dataframe\">\n",
       "  <thead>\n",
       "    <tr>\n",
       "      <th></th>\n",
       "      <th></th>\n",
       "      <th colspan=\"4\" halign=\"left\">5. volume</th>\n",
       "    </tr>\n",
       "    <tr>\n",
       "      <th></th>\n",
       "      <th>stock</th>\n",
       "      <th>AAPL</th>\n",
       "      <th>IBM</th>\n",
       "      <th>MSFT</th>\n",
       "      <th>TSLA</th>\n",
       "    </tr>\n",
       "    <tr>\n",
       "      <th>year</th>\n",
       "      <th>week</th>\n",
       "      <th></th>\n",
       "      <th></th>\n",
       "      <th></th>\n",
       "      <th></th>\n",
       "    </tr>\n",
       "  </thead>\n",
       "  <tbody>\n",
       "    <tr>\n",
       "      <th rowspan=\"5\" valign=\"top\">2015</th>\n",
       "      <th>1</th>\n",
       "      <td>53204626</td>\n",
       "      <td>5525341</td>\n",
       "      <td>27913852</td>\n",
       "      <td>4764443</td>\n",
       "    </tr>\n",
       "    <tr>\n",
       "      <th>2</th>\n",
       "      <td>282868187</td>\n",
       "      <td>24440360</td>\n",
       "      <td>158596624</td>\n",
       "      <td>22622034</td>\n",
       "    </tr>\n",
       "    <tr>\n",
       "      <th>3</th>\n",
       "      <td>304226647</td>\n",
       "      <td>23272056</td>\n",
       "      <td>157088136</td>\n",
       "      <td>30799137</td>\n",
       "    </tr>\n",
       "    <tr>\n",
       "      <th>4</th>\n",
       "      <td>198737041</td>\n",
       "      <td>31230797</td>\n",
       "      <td>137352632</td>\n",
       "      <td>16215501</td>\n",
       "    </tr>\n",
       "    <tr>\n",
       "      <th>5</th>\n",
       "      <td>465842684</td>\n",
       "      <td>32927307</td>\n",
       "      <td>437786778</td>\n",
       "      <td>15720217</td>\n",
       "    </tr>\n",
       "    <tr>\n",
       "      <th>...</th>\n",
       "      <th>...</th>\n",
       "      <td>...</td>\n",
       "      <td>...</td>\n",
       "      <td>...</td>\n",
       "      <td>...</td>\n",
       "    </tr>\n",
       "    <tr>\n",
       "      <th rowspan=\"5\" valign=\"top\">2022</th>\n",
       "      <th>15</th>\n",
       "      <td>297460188</td>\n",
       "      <td>15342641</td>\n",
       "      <td>115664768</td>\n",
       "      <td>79625639</td>\n",
       "    </tr>\n",
       "    <tr>\n",
       "      <th>16</th>\n",
       "      <td>376576076</td>\n",
       "      <td>47056765</td>\n",
       "      <td>124741446</td>\n",
       "      <td>113841457</td>\n",
       "    </tr>\n",
       "    <tr>\n",
       "      <th>17</th>\n",
       "      <td>540082324</td>\n",
       "      <td>24560464</td>\n",
       "      <td>211924047</td>\n",
       "      <td>164154275</td>\n",
       "    </tr>\n",
       "    <tr>\n",
       "      <th>18</th>\n",
       "      <td>566193362</td>\n",
       "      <td>27079586</td>\n",
       "      <td>175633827</td>\n",
       "      <td>128677405</td>\n",
       "    </tr>\n",
       "    <tr>\n",
       "      <th>19</th>\n",
       "      <td>246944657</td>\n",
       "      <td>16290331</td>\n",
       "      <td>87062376</td>\n",
       "      <td>58259057</td>\n",
       "    </tr>\n",
       "  </tbody>\n",
       "</table>\n",
       "<p>385 rows × 4 columns</p>\n",
       "</div>"
      ],
      "text/plain": [
       "           5. volume                                \n",
       "stock           AAPL       IBM       MSFT       TSLA\n",
       "year week                                           \n",
       "2015 1      53204626   5525341   27913852    4764443\n",
       "     2     282868187  24440360  158596624   22622034\n",
       "     3     304226647  23272056  157088136   30799137\n",
       "     4     198737041  31230797  137352632   16215501\n",
       "     5     465842684  32927307  437786778   15720217\n",
       "...              ...       ...        ...        ...\n",
       "2022 15    297460188  15342641  115664768   79625639\n",
       "     16    376576076  47056765  124741446  113841457\n",
       "     17    540082324  24560464  211924047  164154275\n",
       "     18    566193362  27079586  175633827  128677405\n",
       "     19    246944657  16290331   87062376   58259057\n",
       "\n",
       "[385 rows x 4 columns]"
      ]
     },
     "execution_count": 287,
     "metadata": {},
     "output_type": "execute_result"
    }
   ],
   "source": [
    "df_group_week.pivot_table(index=['year','week'],columns='stock')"
   ]
  },
  {
   "cell_type": "markdown",
   "metadata": {},
   "source": [
    "### Step 9. Find all the volume traded in the year of 2015"
   ]
  },
  {
   "cell_type": "code",
   "execution_count": 259,
   "metadata": {},
   "outputs": [],
   "source": []
  },
  {
   "cell_type": "code",
   "execution_count": 262,
   "metadata": {},
   "outputs": [
    {
     "data": {
      "text/plain": [
       "MultiIndex([(2015,  1, 'AAPL'),\n",
       "            (2015,  1,  'IBM'),\n",
       "            (2015,  1, 'MSFT'),\n",
       "            (2015,  1, 'TSLA'),\n",
       "            (2015,  2, 'AAPL'),\n",
       "            (2015,  2,  'IBM'),\n",
       "            (2015,  2, 'MSFT'),\n",
       "            (2015,  2, 'TSLA'),\n",
       "            (2015,  3, 'AAPL'),\n",
       "            (2015,  3,  'IBM'),\n",
       "            ...\n",
       "            (2022, 17, 'MSFT'),\n",
       "            (2022, 17, 'TSLA'),\n",
       "            (2022, 18, 'AAPL'),\n",
       "            (2022, 18,  'IBM'),\n",
       "            (2022, 18, 'MSFT'),\n",
       "            (2022, 18, 'TSLA'),\n",
       "            (2022, 19, 'AAPL'),\n",
       "            (2022, 19,  'IBM'),\n",
       "            (2022, 19, 'MSFT'),\n",
       "            (2022, 19, 'TSLA')],\n",
       "           names=['year', 'week', 'stock'], length=1540)"
      ]
     },
     "execution_count": 262,
     "metadata": {},
     "output_type": "execute_result"
    }
   ],
   "source": [
    "df_group_week.index"
   ]
  },
  {
   "cell_type": "code",
   "execution_count": 271,
   "metadata": {},
   "outputs": [],
   "source": [
    "df_vol_year = df_group_week.groupby([df_group_week.index.get_level_values('year'), df_group_week.index.get_level_values('stock')]).sum()"
   ]
  },
  {
   "cell_type": "code",
   "execution_count": null,
   "metadata": {},
   "outputs": [],
   "source": [
    "df_vol_year"
   ]
  },
  {
   "cell_type": "code",
   "execution_count": 289,
   "metadata": {},
   "outputs": [
    {
     "data": {
      "text/html": [
       "<style type=\"text/css\">\n",
       "</style>\n",
       "<table id=\"T_a2bc6\">\n",
       "  <thead>\n",
       "    <tr>\n",
       "      <th class=\"blank level0\" >&nbsp;</th>\n",
       "      <th id=\"T_a2bc6_level0_col0\" class=\"col_heading level0 col0\" colspan=\"4\">5. volume</th>\n",
       "    </tr>\n",
       "    <tr>\n",
       "      <th class=\"index_name level1\" >stock</th>\n",
       "      <th id=\"T_a2bc6_level1_col0\" class=\"col_heading level1 col0\" >AAPL</th>\n",
       "      <th id=\"T_a2bc6_level1_col1\" class=\"col_heading level1 col1\" >IBM</th>\n",
       "      <th id=\"T_a2bc6_level1_col2\" class=\"col_heading level1 col2\" >MSFT</th>\n",
       "      <th id=\"T_a2bc6_level1_col3\" class=\"col_heading level1 col3\" >TSLA</th>\n",
       "    </tr>\n",
       "    <tr>\n",
       "      <th class=\"index_name level0\" >year</th>\n",
       "      <th class=\"blank col0\" >&nbsp;</th>\n",
       "      <th class=\"blank col1\" >&nbsp;</th>\n",
       "      <th class=\"blank col2\" >&nbsp;</th>\n",
       "      <th class=\"blank col3\" >&nbsp;</th>\n",
       "    </tr>\n",
       "  </thead>\n",
       "  <tbody>\n",
       "    <tr>\n",
       "      <th id=\"T_a2bc6_level0_row0\" class=\"row_heading level0 row0\" >2015</th>\n",
       "      <td id=\"T_a2bc6_row0_col0\" class=\"data row0 col0\" >13064316775</td>\n",
       "      <td id=\"T_a2bc6_row0_col1\" class=\"data row0 col1\" >1105545521</td>\n",
       "      <td id=\"T_a2bc6_row0_col2\" class=\"data row0 col2\" >9057582311</td>\n",
       "      <td id=\"T_a2bc6_row0_col3\" class=\"data row0 col3\" >1086708380</td>\n",
       "    </tr>\n",
       "  </tbody>\n",
       "</table>\n"
      ],
      "text/plain": [
       "<pandas.io.formats.style.Styler at 0x2244c4c84f0>"
      ]
     },
     "execution_count": 289,
     "metadata": {},
     "output_type": "execute_result"
    }
   ],
   "source": [
    "df_vol_year[df_vol_year.index.get_level_values('year')==2015].pivot_table(index=['year'],columns='stock').style.format(precision=0)"
   ]
  },
  {
   "cell_type": "code",
   "execution_count": null,
   "metadata": {},
   "outputs": [],
   "source": []
  }
 ],
 "metadata": {
  "kernelspec": {
   "display_name": "Python 3 (ipykernel)",
   "language": "python",
   "name": "python3"
  },
  "language_info": {
   "codemirror_mode": {
    "name": "ipython",
    "version": 3
   },
   "file_extension": ".py",
   "mimetype": "text/x-python",
   "name": "python",
   "nbconvert_exporter": "python",
   "pygments_lexer": "ipython3",
   "version": "3.9.7"
  }
 },
 "nbformat": 4,
 "nbformat_minor": 4
}
